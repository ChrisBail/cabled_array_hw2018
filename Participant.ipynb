{
 "cells": [
  {
   "cell_type": "markdown",
   "metadata": {},
   "source": [
    "# Geohackweek participant selection"
   ]
  },
  {
   "cell_type": "code",
   "execution_count": 1,
   "metadata": {
    "collapsed": true
   },
   "outputs": [],
   "source": [
    "%matplotlib inline\n",
    "import os\n",
    "import gspread\n",
    "from oauth2client.service_account import ServiceAccountCredentials\n",
    "import matplotlib.pyplot as plt\n",
    "\n",
    "import numpy as np\n",
    "import pandas as pd\n",
    "\n",
    "import entrofy\n",
    "import entrofy.mappers\n",
    "import entrofy.core\n",
    "\n",
    "import six\n",
    "\n",
    "seed = 20170615"
   ]
  },
  {
   "cell_type": "code",
   "execution_count": 2,
   "metadata": {
    "collapsed": true
   },
   "outputs": [],
   "source": [
    "# Get credentials\n",
    "scope = ['https://spreadsheets.google.com/feeds']\n",
    "\n",
    "credentials = ServiceAccountCredentials.from_json_keyfile_name(os.path.join('..', 'Geohackweek2017-adf8548865eb.json'), scope)\n",
    "\n",
    "gc = gspread.authorize(credentials)"
   ]
  },
  {
   "cell_type": "code",
   "execution_count": 3,
   "metadata": {},
   "outputs": [
    {
     "data": {
      "text/plain": [
       "[<Spreadsheet 'Event Registration (Responses)' id:1mh5I8oIlVCtNB80nIcuwvTJsichHpaB2D_Os-iuCCEo>]"
      ]
     },
     "execution_count": 3,
     "metadata": {},
     "output_type": "execute_result"
    }
   ],
   "source": [
    "# See available sheets\n",
    "gc.openall()"
   ]
  },
  {
   "cell_type": "code",
   "execution_count": 4,
   "metadata": {
    "collapsed": true
   },
   "outputs": [],
   "source": [
    "sheets = gc.open_by_key('1mh5I8oIlVCtNB80nIcuwvTJsichHpaB2D_Os-iuCCEo')"
   ]
  },
  {
   "cell_type": "code",
   "execution_count": 5,
   "metadata": {
    "collapsed": true
   },
   "outputs": [],
   "source": [
    "ws = sheets.get_worksheet(0)"
   ]
  },
  {
   "cell_type": "code",
   "execution_count": 6,
   "metadata": {
    "collapsed": true
   },
   "outputs": [],
   "source": [
    "rec = ws.get_all_records()"
   ]
  },
  {
   "cell_type": "code",
   "execution_count": 7,
   "metadata": {
    "collapsed": true
   },
   "outputs": [],
   "source": [
    "df = pd.DataFrame.from_records(rec)"
   ]
  },
  {
   "cell_type": "code",
   "execution_count": 8,
   "metadata": {},
   "outputs": [
    {
     "data": {
      "text/plain": [
       "83"
      ]
     },
     "execution_count": 8,
     "metadata": {},
     "output_type": "execute_result"
    }
   ],
   "source": [
    "len(df)"
   ]
  },
  {
   "cell_type": "code",
   "execution_count": 9,
   "metadata": {},
   "outputs": [
    {
     "data": {
      "text/plain": [
       "Index(['Do you have any specific project you intend to bring to Geo Hackweek?',\n",
       "       'Do you have any specific topics you would like to learn about at Geo Hackweek?',\n",
       "       'Do you have specific datasets that you would like to share at Geo Hackweek to work on with other groups? ',\n",
       "       'Email Address', 'Experience with geospatial datasets',\n",
       "       'Familiarity with command line interfaces', 'First Name',\n",
       "       'Have you applied to Geo Hackweek before and not been selected for participation?',\n",
       "       'Have you attended any hack day or hack week before?',\n",
       "       'In terms of gender identity, do you consider yourself a minority with respect to the field of geospatial science?',\n",
       "       'In terms of racial or ethnic identity, do you consider yourself a minority with respect to the field of geospatial science?',\n",
       "       'Institution or Organization',\n",
       "       'Is there a topic you could imagine teaching at Geo Hackweek?',\n",
       "       'Last Name', 'Programming experience',\n",
       "       'The main reason I'd like to attend Geo Hackweek is:', 'Timestamp',\n",
       "       'Website, github or other URL you wish to share?',\n",
       "       'What is your current geographical location?',\n",
       "       'What is your current position?',\n",
       "       'What is your primary science/work focus? ',\n",
       "       'Will you be likely to need financial support from us to attend Geo Hackweek?'],\n",
       "      dtype='object')"
      ]
     },
     "execution_count": 9,
     "metadata": {},
     "output_type": "execute_result"
    }
   ],
   "source": [
    "df.columns"
   ]
  },
  {
   "cell_type": "code",
   "execution_count": 10,
   "metadata": {
    "collapsed": true
   },
   "outputs": [],
   "source": [
    "new_cols = ['specific_project', \n",
    "            'specific_topics', \n",
    "            'specific_datasets', \n",
    "            'email', \n",
    "            'exp_geospatial', \n",
    "            'exp_cmd', \n",
    "            'first_name', \n",
    "            'apply_geohack',\n",
    "            'apply_hack', \n",
    "            'gender_minor', \n",
    "            'ethnic_minor',\n",
    "            'org_institute',\n",
    "            'teach_topic',\n",
    "            'last_name',\n",
    "            'exp_prog',\n",
    "            'reason_attend',\n",
    "            'timestamp',\n",
    "            'person_url',\n",
    "            'location',\n",
    "            'position',\n",
    "            'science_work',\n",
    "            'need_financial']"
   ]
  },
  {
   "cell_type": "code",
   "execution_count": 11,
   "metadata": {
    "collapsed": true
   },
   "outputs": [],
   "source": [
    "df.columns = new_cols"
   ]
  },
  {
   "cell_type": "code",
   "execution_count": 12,
   "metadata": {},
   "outputs": [],
   "source": [
    "df = df.drop(['email', 'person_url', 'org_institute', 'first_name', 'last_name', 'reason_attend'], \n",
    "        axis=1)"
   ]
  },
  {
   "cell_type": "code",
   "execution_count": 13,
   "metadata": {
    "collapsed": true
   },
   "outputs": [],
   "source": [
    "df.replace('', 'na', regex=True, inplace=True)"
   ]
  },
  {
   "cell_type": "code",
   "execution_count": 14,
   "metadata": {},
   "outputs": [
    {
     "data": {
      "text/html": [
       "<div>\n",
       "<style>\n",
       "    .dataframe thead tr:only-child th {\n",
       "        text-align: right;\n",
       "    }\n",
       "\n",
       "    .dataframe thead th {\n",
       "        text-align: left;\n",
       "    }\n",
       "\n",
       "    .dataframe tbody tr th {\n",
       "        vertical-align: top;\n",
       "    }\n",
       "</style>\n",
       "<table border=\"1\" class=\"dataframe\">\n",
       "  <thead>\n",
       "    <tr style=\"text-align: right;\">\n",
       "      <th></th>\n",
       "      <th>specific_project</th>\n",
       "      <th>specific_topics</th>\n",
       "      <th>specific_datasets</th>\n",
       "      <th>exp_geospatial</th>\n",
       "      <th>exp_cmd</th>\n",
       "      <th>apply_geohack</th>\n",
       "      <th>apply_hack</th>\n",
       "      <th>gender_minor</th>\n",
       "      <th>ethnic_minor</th>\n",
       "      <th>teach_topic</th>\n",
       "      <th>exp_prog</th>\n",
       "      <th>timestamp</th>\n",
       "      <th>location</th>\n",
       "      <th>position</th>\n",
       "      <th>science_work</th>\n",
       "      <th>need_financial</th>\n",
       "    </tr>\n",
       "  </thead>\n",
       "  <tbody>\n",
       "    <tr>\n",
       "      <th>0</th>\n",
       "      <td>No</td>\n",
       "      <td>What tools are out there for my data.</td>\n",
       "      <td>No</td>\n",
       "      <td>I have extensive experience with geospatial data</td>\n",
       "      <td>I commonly use a command line in my work</td>\n",
       "      <td>No</td>\n",
       "      <td>Yes</td>\n",
       "      <td>No</td>\n",
       "      <td>Yes</td>\n",
       "      <td>Conda and Docker!</td>\n",
       "      <td>Release code for others to use</td>\n",
       "      <td>5/11/2017 9:49:24</td>\n",
       "      <td>North America</td>\n",
       "      <td>Research Staff</td>\n",
       "      <td>oceanography</td>\n",
       "      <td>No support required.</td>\n",
       "    </tr>\n",
       "    <tr>\n",
       "      <th>1</th>\n",
       "      <td>use Sentinel-2 to visualize algal blooms. I w...</td>\n",
       "      <td>I'd really like to learn a bit about user inte...</td>\n",
       "      <td>I most often use Landsat and Sentinel 2 datasets.</td>\n",
       "      <td>I have extensive experience with geospatial data</td>\n",
       "      <td>I occasionally use a command line in my work</td>\n",
       "      <td>No</td>\n",
       "      <td>No</td>\n",
       "      <td>Yes</td>\n",
       "      <td>No</td>\n",
       "      <td>I use Sentinel-2 to visualize algal blooms. I'...</td>\n",
       "      <td>Program a little for coursework or research</td>\n",
       "      <td>5/14/2017 12:38:18</td>\n",
       "      <td>North America</td>\n",
       "      <td>Graduate/postgraduate student</td>\n",
       "      <td>water resources</td>\n",
       "      <td>I absolutely need support to attend.</td>\n",
       "    </tr>\n",
       "    <tr>\n",
       "      <th>2</th>\n",
       "      <td>Spatial stream network models and associated d...</td>\n",
       "      <td>Python coding, batch scripting, automated data...</td>\n",
       "      <td>na</td>\n",
       "      <td>I have extensive experience with geospatial data</td>\n",
       "      <td>I occasionally use a command line in my work</td>\n",
       "      <td>No</td>\n",
       "      <td>No</td>\n",
       "      <td>No</td>\n",
       "      <td>No</td>\n",
       "      <td>na</td>\n",
       "      <td>Program a little for coursework or research</td>\n",
       "      <td>5/14/2017 14:16:53</td>\n",
       "      <td>North America</td>\n",
       "      <td>Graduate/postgraduate student</td>\n",
       "      <td>water resources</td>\n",
       "      <td>No support required.</td>\n",
       "    </tr>\n",
       "    <tr>\n",
       "      <th>3</th>\n",
       "      <td>na</td>\n",
       "      <td>Modeling for surface process and natural event...</td>\n",
       "      <td>LiDAR, IfSAR</td>\n",
       "      <td>I have extensive experience with geospatial data</td>\n",
       "      <td>I occasionally use a command line in my work</td>\n",
       "      <td>No</td>\n",
       "      <td>No</td>\n",
       "      <td>Yes</td>\n",
       "      <td>No</td>\n",
       "      <td>Image interpretation</td>\n",
       "      <td>Program a little for coursework or research</td>\n",
       "      <td>5/15/2017 0:18:39</td>\n",
       "      <td>Asia</td>\n",
       "      <td>Graduate/postgraduate student</td>\n",
       "      <td>earth surface processes</td>\n",
       "      <td>I absolutely need support to attend.</td>\n",
       "    </tr>\n",
       "    <tr>\n",
       "      <th>4</th>\n",
       "      <td>No - but this may change after this summer fie...</td>\n",
       "      <td>github / python interface,  GEE processing wit...</td>\n",
       "      <td>maybe - I have worldview data, time series che...</td>\n",
       "      <td>I have extensive experience with geospatial data</td>\n",
       "      <td>I occasionally use a command line in my work</td>\n",
       "      <td>No</td>\n",
       "      <td>No</td>\n",
       "      <td>No</td>\n",
       "      <td>No</td>\n",
       "      <td>Using the NHDPlus database for freshwater science</td>\n",
       "      <td>Program a little for coursework or research</td>\n",
       "      <td>5/15/2017 9:19:50</td>\n",
       "      <td>North America</td>\n",
       "      <td>Teaching Faculty</td>\n",
       "      <td>water resources</td>\n",
       "      <td>No support required.</td>\n",
       "    </tr>\n",
       "  </tbody>\n",
       "</table>\n",
       "</div>"
      ],
      "text/plain": [
       "                                    specific_project  \\\n",
       "0                                                 No   \n",
       "1   use Sentinel-2 to visualize algal blooms. I w...   \n",
       "2  Spatial stream network models and associated d...   \n",
       "3                                                 na   \n",
       "4  No - but this may change after this summer fie...   \n",
       "\n",
       "                                     specific_topics  \\\n",
       "0              What tools are out there for my data.   \n",
       "1  I'd really like to learn a bit about user inte...   \n",
       "2  Python coding, batch scripting, automated data...   \n",
       "3  Modeling for surface process and natural event...   \n",
       "4  github / python interface,  GEE processing wit...   \n",
       "\n",
       "                                   specific_datasets  \\\n",
       "0                                                 No   \n",
       "1  I most often use Landsat and Sentinel 2 datasets.   \n",
       "2                                                 na   \n",
       "3                                       LiDAR, IfSAR   \n",
       "4  maybe - I have worldview data, time series che...   \n",
       "\n",
       "                                     exp_geospatial  \\\n",
       "0  I have extensive experience with geospatial data   \n",
       "1  I have extensive experience with geospatial data   \n",
       "2  I have extensive experience with geospatial data   \n",
       "3  I have extensive experience with geospatial data   \n",
       "4  I have extensive experience with geospatial data   \n",
       "\n",
       "                                        exp_cmd apply_geohack apply_hack  \\\n",
       "0      I commonly use a command line in my work            No        Yes   \n",
       "1  I occasionally use a command line in my work            No         No   \n",
       "2  I occasionally use a command line in my work            No         No   \n",
       "3  I occasionally use a command line in my work            No         No   \n",
       "4  I occasionally use a command line in my work            No         No   \n",
       "\n",
       "  gender_minor ethnic_minor  \\\n",
       "0           No          Yes   \n",
       "1          Yes           No   \n",
       "2           No           No   \n",
       "3          Yes           No   \n",
       "4           No           No   \n",
       "\n",
       "                                         teach_topic  \\\n",
       "0                                  Conda and Docker!   \n",
       "1  I use Sentinel-2 to visualize algal blooms. I'...   \n",
       "2                                                 na   \n",
       "3                               Image interpretation   \n",
       "4  Using the NHDPlus database for freshwater science   \n",
       "\n",
       "                                      exp_prog           timestamp  \\\n",
       "0               Release code for others to use   5/11/2017 9:49:24   \n",
       "1  Program a little for coursework or research  5/14/2017 12:38:18   \n",
       "2  Program a little for coursework or research  5/14/2017 14:16:53   \n",
       "3  Program a little for coursework or research   5/15/2017 0:18:39   \n",
       "4  Program a little for coursework or research   5/15/2017 9:19:50   \n",
       "\n",
       "        location                       position             science_work  \\\n",
       "0  North America                 Research Staff             oceanography   \n",
       "1  North America  Graduate/postgraduate student          water resources   \n",
       "2  North America  Graduate/postgraduate student          water resources   \n",
       "3           Asia  Graduate/postgraduate student  earth surface processes   \n",
       "4  North America               Teaching Faculty          water resources   \n",
       "\n",
       "                         need_financial  \n",
       "0                  No support required.  \n",
       "1  I absolutely need support to attend.  \n",
       "2                  No support required.  \n",
       "3  I absolutely need support to attend.  \n",
       "4                  No support required.  "
      ]
     },
     "execution_count": 14,
     "metadata": {},
     "output_type": "execute_result"
    }
   ],
   "source": [
    "df.head()"
   ]
  },
  {
   "cell_type": "code",
   "execution_count": 15,
   "metadata": {
    "collapsed": true
   },
   "outputs": [],
   "source": [
    "fixed_categories = ['location', \n",
    "                    'position', \n",
    "                    'science_work', \n",
    "                    'exp_prog', \n",
    "                    'exp_geospatial', \n",
    "                    'exp_cmd', \n",
    "                    'apply_hack', \n",
    "                    'apply_geohack', \n",
    "                    'need_financial', \n",
    "                    'gender_minor', \n",
    "                    'ethnic_minor']"
   ]
  },
  {
   "cell_type": "code",
   "execution_count": 16,
   "metadata": {
    "collapsed": true
   },
   "outputs": [],
   "source": [
    "def make_plot(column_str):\n",
    "    ax = entrofy.plotting.plot_distribution(df, column_str,\n",
    "                                        xtype=\"categorical\",\n",
    "                                        cmap=\"YlGnBu\", ax=None)\n",
    "    ax.set_xticklabels(ax.xaxis.get_majorticklabels(), rotation='vertical')"
   ]
  },
  {
   "cell_type": "markdown",
   "metadata": {},
   "source": [
    "### What is your current geographical location?"
   ]
  },
  {
   "cell_type": "code",
   "execution_count": 17,
   "metadata": {
    "scrolled": false
   },
   "outputs": [
    {
     "data": {
      "image/png": "[encoded data removed]",
      "text/plain": [
       "<matplotlib.figure.Figure at 0x11826cba8>"
      ]
     },
     "metadata": {},
     "output_type": "display_data"
    }
   ],
   "source": [
    "make_plot(fixed_categories[0])"
   ]
  },
  {
   "cell_type": "markdown",
   "metadata": {},
   "source": [
    "### What is your current position?"
   ]
  },
  {
   "cell_type": "code",
   "execution_count": 18,
   "metadata": {},
   "outputs": [
    {
     "data": {
      "image/png": "[encoded data removed]",
      "text/plain": [
       "<matplotlib.figure.Figure at 0x11969ee10>"
      ]
     },
     "metadata": {},
     "output_type": "display_data"
    }
   ],
   "source": [
    "make_plot(fixed_categories[1])"
   ]
  },
  {
   "cell_type": "markdown",
   "metadata": {},
   "source": [
    "### What is your primary science/work focus?"
   ]
  },
  {
   "cell_type": "code",
   "execution_count": 19,
   "metadata": {},
   "outputs": [
    {
     "data": {
      "image/png": "[encoded data removed]",
      "text/plain": [
       "<matplotlib.figure.Figure at 0x119834358>"
      ]
     },
     "metadata": {},
     "output_type": "display_data"
    }
   ],
   "source": [
    "make_plot(fixed_categories[2])"
   ]
  },
  {
   "cell_type": "markdown",
   "metadata": {},
   "source": [
    "### Programming experience"
   ]
  },
  {
   "cell_type": "code",
   "execution_count": 20,
   "metadata": {},
   "outputs": [
    {
     "data": {
      "image/png": "[encoded data removed]",
      "text/plain": [
       "<matplotlib.figure.Figure at 0x1198af4e0>"
      ]
     },
     "metadata": {},
     "output_type": "display_data"
    }
   ],
   "source": [
    "make_plot(fixed_categories[3])"
   ]
  },
  {
   "cell_type": "markdown",
   "metadata": {},
   "source": [
    "### In terms of racial or ethnic identity, do you consider yourself a minority with respect to the field of geospatial science?"
   ]
  },
  {
   "cell_type": "code",
   "execution_count": 21,
   "metadata": {},
   "outputs": [
    {
     "data": {
      "image/png": "[encoded data removed]",
      "text/plain": [
       "<matplotlib.figure.Figure at 0x1199b5a58>"
      ]
     },
     "metadata": {},
     "output_type": "display_data"
    }
   ],
   "source": [
    "make_plot(fixed_categories[4])"
   ]
  },
  {
   "cell_type": "markdown",
   "metadata": {},
   "source": [
    "### Familiarity with command line interfaces"
   ]
  },
  {
   "cell_type": "code",
   "execution_count": 22,
   "metadata": {},
   "outputs": [
    {
     "data": {
      "image/png": "[encoded data removed]",
      "text/plain": [
       "<matplotlib.figure.Figure at 0x119a19390>"
      ]
     },
     "metadata": {},
     "output_type": "display_data"
    }
   ],
   "source": [
    "make_plot(fixed_categories[5])"
   ]
  },
  {
   "cell_type": "markdown",
   "metadata": {},
   "source": [
    "### Have you attended any hack day or hack week before?"
   ]
  },
  {
   "cell_type": "code",
   "execution_count": 23,
   "metadata": {},
   "outputs": [
    {
     "data": {
      "image/png": "[encoded data removed]",
      "text/plain": [
       "<matplotlib.figure.Figure at 0x119ae0550>"
      ]
     },
     "metadata": {},
     "output_type": "display_data"
    }
   ],
   "source": [
    "make_plot(fixed_categories[6])"
   ]
  },
  {
   "cell_type": "markdown",
   "metadata": {},
   "source": [
    "### Have you applied to Geo Hackweek before and not been selected for participation?"
   ]
  },
  {
   "cell_type": "code",
   "execution_count": 24,
   "metadata": {},
   "outputs": [
    {
     "data": {
      "image/png": "[encoded data removed]",
      "text/plain": [
       "<matplotlib.figure.Figure at 0x119c3a9b0>"
      ]
     },
     "metadata": {},
     "output_type": "display_data"
    }
   ],
   "source": [
    "make_plot(fixed_categories[7])"
   ]
  },
  {
   "cell_type": "markdown",
   "metadata": {},
   "source": [
    "### Will you be likely to need financial support from us to attend Geo Hackweek?"
   ]
  },
  {
   "cell_type": "code",
   "execution_count": 25,
   "metadata": {},
   "outputs": [
    {
     "data": {
      "image/png": "[encoded data removed]",
      "text/plain": [
       "<matplotlib.figure.Figure at 0x119be8f60>"
      ]
     },
     "metadata": {},
     "output_type": "display_data"
    }
   ],
   "source": [
    "make_plot(fixed_categories[8])"
   ]
  },
  {
   "cell_type": "markdown",
   "metadata": {},
   "source": [
    "### In terms of gender identity, do you consider yourself a minority with respect to the field of geospatial science?"
   ]
  },
  {
   "cell_type": "code",
   "execution_count": 26,
   "metadata": {},
   "outputs": [
    {
     "data": {
      "image/png": "[encoded data removed]",
      "text/plain": [
       "<matplotlib.figure.Figure at 0x119cd5b00>"
      ]
     },
     "metadata": {},
     "output_type": "display_data"
    }
   ],
   "source": [
    "make_plot(fixed_categories[9])"
   ]
  },
  {
   "cell_type": "markdown",
   "metadata": {},
   "source": [
    "### In terms of racial or ethnic identity, do you consider yourself a minority with respect to the field of geospatial science?"
   ]
  },
  {
   "cell_type": "code",
   "execution_count": 27,
   "metadata": {},
   "outputs": [
    {
     "data": {
      "image/png": "[encoded data removed]",
      "text/plain": [
       "<matplotlib.figure.Figure at 0x11d5440f0>"
      ]
     },
     "metadata": {},
     "output_type": "display_data"
    }
   ],
   "source": [
    "make_plot(fixed_categories[10])"
   ]
  },
  {
   "cell_type": "code",
   "execution_count": 28,
   "metadata": {
    "collapsed": true
   },
   "outputs": [],
   "source": [
    "weights = {'position': 1.0, \n",
    "           'exp_geospatial': 1.0, \n",
    "           'science_work': 1.0}"
   ]
  },
  {
   "cell_type": "code",
   "execution_count": 29,
   "metadata": {
    "collapsed": true
   },
   "outputs": [],
   "source": [
    "mappers = entrofy.core.construct_mappers(df, weights)"
   ]
  },
  {
   "cell_type": "code",
   "execution_count": 30,
   "metadata": {},
   "outputs": [
    {
     "data": {
      "text/plain": [
       "{'exp_geospatial': <entrofy.mappers.ObjectMapper at 0x11d585ef0>,\n",
       " 'position': <entrofy.mappers.ObjectMapper at 0x11d6a6080>,\n",
       " 'science_work': <entrofy.mappers.ObjectMapper at 0x11d585da0>}"
      ]
     },
     "execution_count": 30,
     "metadata": {},
     "output_type": "execute_result"
    }
   ],
   "source": [
    "mappers"
   ]
  },
  {
   "cell_type": "code",
   "execution_count": 31,
   "metadata": {
    "collapsed": true
   },
   "outputs": [],
   "source": [
    "datatypes = {'position': 'categorical',\n",
    "             'exp_geospatial': 'categorical', \n",
    "             'science_work': 'categorical'}"
   ]
  },
  {
   "cell_type": "code",
   "execution_count": 32,
   "metadata": {
    "collapsed": true
   },
   "outputs": [],
   "source": [
    "mappers = entrofy.core.construct_mappers(df, weights, datatypes)"
   ]
  },
  {
   "cell_type": "code",
   "execution_count": 33,
   "metadata": {},
   "outputs": [
    {
     "data": {
      "text/plain": [
       "{'Data Scientist': 0.07692307692307693,\n",
       " 'Future Graduate student and currently in Industry': 0.07692307692307693,\n",
       " 'Government': 0.07692307692307693,\n",
       " 'Graduate/postgraduate student': 0.07692307692307693,\n",
       " 'Industry': 0.07692307692307693,\n",
       " 'Officer on Special Duty ': 0.07692307692307693,\n",
       " 'Postdoc': 0.07692307692307693,\n",
       " 'Research Staff': 0.07692307692307693,\n",
       " 'Teaching Faculty': 0.07692307692307693,\n",
       " 'UW Professional Staff': 0.07692307692307693,\n",
       " 'Undergraduate/college student': 0.07692307692307693,\n",
       " 'software developer': 0.07692307692307693,\n",
       " 'writing grant proposals and papers!': 0.07692307692307693}"
      ]
     },
     "execution_count": 33,
     "metadata": {},
     "output_type": "execute_result"
    }
   ],
   "source": [
    "mappers['position'].targets"
   ]
  },
  {
   "cell_type": "code",
   "execution_count": 34,
   "metadata": {},
   "outputs": [
    {
     "data": {
      "text/plain": [
       "{'I have extensive experience with geospatial data': 0.3333333333333333,\n",
       " 'I have some experience with geospatial data': 0.3333333333333333,\n",
       " 'None': 0.3333333333333333}"
      ]
     },
     "execution_count": 34,
     "metadata": {},
     "output_type": "execute_result"
    }
   ],
   "source": [
    "mappers['exp_geospatial'].targets"
   ]
  },
  {
   "cell_type": "code",
   "execution_count": 35,
   "metadata": {},
   "outputs": [
    {
     "data": {
      "text/plain": [
       "{'Business applications for Machine Learning': 0.03333333333333333,\n",
       " 'Data Management': 0.03333333333333333,\n",
       " 'Data Science': 0.03333333333333333,\n",
       " 'Data Science and Design (Intelligent systems)': 0.03333333333333333,\n",
       " 'Environmental Health': 0.03333333333333333,\n",
       " 'Forestry': 0.03333333333333333,\n",
       " 'GIS': 0.03333333333333333,\n",
       " 'Glaciology (cryosphere)': 0.03333333333333333,\n",
       " 'Mathematics': 0.03333333333333333,\n",
       " 'Physics': 0.03333333333333333,\n",
       " 'Public Health - Exposure Sciences': 0.03333333333333333,\n",
       " 'Science Diplomacy, climate change ': 0.03333333333333333,\n",
       " 'Seismology': 0.03333333333333333,\n",
       " 'Spatial Data Processing (GIS Data Engineer)': 0.03333333333333333,\n",
       " 'Spatial Social Science': 0.03333333333333333,\n",
       " 'Subsurface fluid flow': 0.03333333333333333,\n",
       " 'agriculture/soil science': 0.03333333333333333,\n",
       " 'atmosphere / climate': 0.03333333333333333,\n",
       " 'biology': 0.03333333333333333,\n",
       " 'disability and access technologies': 0.03333333333333333,\n",
       " 'earth surface processes': 0.03333333333333333,\n",
       " 'engineering': 0.03333333333333333,\n",
       " 'mathematics': 0.03333333333333333,\n",
       " 'oceanography': 0.03333333333333333,\n",
       " 'real estate': 0.03333333333333333,\n",
       " 'socio-ecological modeling': 0.03333333333333333,\n",
       " 'systems ecology': 0.03333333333333333,\n",
       " 'transportation economics': 0.03333333333333333,\n",
       " 'urban planning': 0.03333333333333333,\n",
       " 'water resources': 0.03333333333333333}"
      ]
     },
     "execution_count": 35,
     "metadata": {},
     "output_type": "execute_result"
    }
   ],
   "source": [
    "mappers['science_work'].targets"
   ]
  },
  {
   "cell_type": "code",
   "execution_count": 36,
   "metadata": {
    "collapsed": true
   },
   "outputs": [],
   "source": [
    "# # new targets in alphabetical order\n",
    "# new_targets = [0.2, 0.5, 0.2, 0.1]\n",
    "\n",
    "# # sort keys for the targets dictionary alphabetically:\n",
    "# sorted_keys = np.sort(mappers[\"subfield\"].targets.keys())\n",
    "\n",
    "# for t, key in zip(new_targets, sorted_keys):\n",
    "#     mappers[\"subfield\"].targets[key] = t"
   ]
  },
  {
   "cell_type": "code",
   "execution_count": 37,
   "metadata": {
    "scrolled": true
   },
   "outputs": [
    {
     "name": "stdout",
     "output_type": "stream",
     "text": [
      "41.7767839964\n"
     ]
    }
   ],
   "source": [
    "idx, max_score = entrofy.core.entrofy(df, 20,\n",
    "                                      mappers=mappers,\n",
    "                                      weights=weights,\n",
    "                                      seed=seed)\n",
    "print(max_score)"
   ]
  },
  {
   "cell_type": "code",
   "execution_count": 38,
   "metadata": {
    "scrolled": false
   },
   "outputs": [
    {
     "data": {
      "text/html": [
       "<div>\n",
       "<style>\n",
       "    .dataframe thead tr:only-child th {\n",
       "        text-align: right;\n",
       "    }\n",
       "\n",
       "    .dataframe thead th {\n",
       "        text-align: left;\n",
       "    }\n",
       "\n",
       "    .dataframe tbody tr th {\n",
       "        vertical-align: top;\n",
       "    }\n",
       "</style>\n",
       "<table border=\"1\" class=\"dataframe\">\n",
       "  <thead>\n",
       "    <tr style=\"text-align: right;\">\n",
       "      <th></th>\n",
       "      <th>specific_project</th>\n",
       "      <th>specific_topics</th>\n",
       "      <th>specific_datasets</th>\n",
       "      <th>exp_geospatial</th>\n",
       "      <th>exp_cmd</th>\n",
       "      <th>apply_geohack</th>\n",
       "      <th>apply_hack</th>\n",
       "      <th>gender_minor</th>\n",
       "      <th>ethnic_minor</th>\n",
       "      <th>teach_topic</th>\n",
       "      <th>exp_prog</th>\n",
       "      <th>timestamp</th>\n",
       "      <th>location</th>\n",
       "      <th>position</th>\n",
       "      <th>science_work</th>\n",
       "      <th>need_financial</th>\n",
       "    </tr>\n",
       "  </thead>\n",
       "  <tbody>\n",
       "    <tr>\n",
       "      <th>0</th>\n",
       "      <td>No</td>\n",
       "      <td>What tools are out there for my data.</td>\n",
       "      <td>No</td>\n",
       "      <td>I have extensive experience with geospatial data</td>\n",
       "      <td>I commonly use a command line in my work</td>\n",
       "      <td>No</td>\n",
       "      <td>Yes</td>\n",
       "      <td>No</td>\n",
       "      <td>Yes</td>\n",
       "      <td>Conda and Docker!</td>\n",
       "      <td>Release code for others to use</td>\n",
       "      <td>5/11/2017 9:49:24</td>\n",
       "      <td>North America</td>\n",
       "      <td>Research Staff</td>\n",
       "      <td>oceanography</td>\n",
       "      <td>No support required.</td>\n",
       "    </tr>\n",
       "    <tr>\n",
       "      <th>5</th>\n",
       "      <td>Likely will in the fall, nothing right now.</td>\n",
       "      <td>Machine Learning for Image/Grided Data Classif...</td>\n",
       "      <td>Not at the moment</td>\n",
       "      <td>I have extensive experience with geospatial data</td>\n",
       "      <td>I commonly use a command line in my work</td>\n",
       "      <td>No</td>\n",
       "      <td>Yes</td>\n",
       "      <td>No</td>\n",
       "      <td>No</td>\n",
       "      <td>No</td>\n",
       "      <td>Program a little for coursework or research</td>\n",
       "      <td>5/15/2017 14:37:15</td>\n",
       "      <td>North America</td>\n",
       "      <td>Research Staff</td>\n",
       "      <td>Spatial Social Science</td>\n",
       "      <td>No support required.</td>\n",
       "    </tr>\n",
       "    <tr>\n",
       "      <th>9</th>\n",
       "      <td>na</td>\n",
       "      <td>na</td>\n",
       "      <td>na</td>\n",
       "      <td>None</td>\n",
       "      <td>I commonly use a command line in my work</td>\n",
       "      <td>No</td>\n",
       "      <td>No</td>\n",
       "      <td>No</td>\n",
       "      <td>No</td>\n",
       "      <td>na</td>\n",
       "      <td>Program heavily for my own research</td>\n",
       "      <td>5/22/2017 10:09:44</td>\n",
       "      <td>North America</td>\n",
       "      <td>Graduate/postgraduate student</td>\n",
       "      <td>Seismology</td>\n",
       "      <td>No support required.</td>\n",
       "    </tr>\n",
       "    <tr>\n",
       "      <th>10</th>\n",
       "      <td>na</td>\n",
       "      <td>New Python methods</td>\n",
       "      <td>na</td>\n",
       "      <td>I have extensive experience with geospatial data</td>\n",
       "      <td>I commonly use a command line in my work</td>\n",
       "      <td>No</td>\n",
       "      <td>No</td>\n",
       "      <td>No</td>\n",
       "      <td>No</td>\n",
       "      <td>na</td>\n",
       "      <td>Program heavily for my own research</td>\n",
       "      <td>5/22/2017 10:28:51</td>\n",
       "      <td>North America</td>\n",
       "      <td>Postdoc</td>\n",
       "      <td>Glaciology (cryosphere)</td>\n",
       "      <td>No support required.</td>\n",
       "    </tr>\n",
       "    <tr>\n",
       "      <th>13</th>\n",
       "      <td>https://www.kaggle.com/c/planet-understanding-...</td>\n",
       "      <td>Machine Learning applications for general infe...</td>\n",
       "      <td>https://www.kaggle.com/c/planet-understanding-...</td>\n",
       "      <td>I have some experience with geospatial data</td>\n",
       "      <td>I occasionally use a command line in my work</td>\n",
       "      <td>No</td>\n",
       "      <td>Yes</td>\n",
       "      <td>No</td>\n",
       "      <td>No</td>\n",
       "      <td>na</td>\n",
       "      <td>Program a little for coursework or research</td>\n",
       "      <td>5/22/2017 12:07:10</td>\n",
       "      <td>North America</td>\n",
       "      <td>Undergraduate/college student</td>\n",
       "      <td>Business applications for Machine Learning</td>\n",
       "      <td>Financial support would help me, but I can pos...</td>\n",
       "    </tr>\n",
       "    <tr>\n",
       "      <th>14</th>\n",
       "      <td>None right now.</td>\n",
       "      <td>Python for time-series analysis, Google Earth ...</td>\n",
       "      <td>Potentially yes.</td>\n",
       "      <td>I have some experience with geospatial data</td>\n",
       "      <td>I occasionally use a command line in my work</td>\n",
       "      <td>No</td>\n",
       "      <td>No</td>\n",
       "      <td>Yes</td>\n",
       "      <td>Yes</td>\n",
       "      <td>I have used R for my research. I could probabl...</td>\n",
       "      <td>Program heavily for my own research</td>\n",
       "      <td>5/22/2017 12:22:30</td>\n",
       "      <td>North America</td>\n",
       "      <td>Teaching Faculty</td>\n",
       "      <td>water resources</td>\n",
       "      <td>I absolutely need support to attend.</td>\n",
       "    </tr>\n",
       "    <tr>\n",
       "      <th>20</th>\n",
       "      <td>na</td>\n",
       "      <td>How to derive insights from geospatial datasets</td>\n",
       "      <td>na</td>\n",
       "      <td>I have some experience with geospatial data</td>\n",
       "      <td>I commonly use a command line in my work</td>\n",
       "      <td>No</td>\n",
       "      <td>Yes</td>\n",
       "      <td>na</td>\n",
       "      <td>na</td>\n",
       "      <td>Actionable Text Analytics from Customer Feedback</td>\n",
       "      <td>Release code for others to use</td>\n",
       "      <td>5/22/2017 18:45:50</td>\n",
       "      <td>North America</td>\n",
       "      <td>Industry</td>\n",
       "      <td>Data Science</td>\n",
       "      <td>No support required.</td>\n",
       "    </tr>\n",
       "    <tr>\n",
       "      <th>23</th>\n",
       "      <td>na</td>\n",
       "      <td>na</td>\n",
       "      <td>na</td>\n",
       "      <td>None</td>\n",
       "      <td>None</td>\n",
       "      <td>No</td>\n",
       "      <td>No</td>\n",
       "      <td>na</td>\n",
       "      <td>na</td>\n",
       "      <td>na</td>\n",
       "      <td>Program a little for coursework or research</td>\n",
       "      <td>5/22/2017 23:09:13</td>\n",
       "      <td>North America</td>\n",
       "      <td>Undergraduate/college student</td>\n",
       "      <td>Physics</td>\n",
       "      <td>Financial support would help me, but I can pos...</td>\n",
       "    </tr>\n",
       "    <tr>\n",
       "      <th>28</th>\n",
       "      <td>na</td>\n",
       "      <td>I would like to learn more about coding and ge...</td>\n",
       "      <td>I do not.</td>\n",
       "      <td>None</td>\n",
       "      <td>None</td>\n",
       "      <td>No</td>\n",
       "      <td>No</td>\n",
       "      <td>No</td>\n",
       "      <td>Yes</td>\n",
       "      <td>na</td>\n",
       "      <td>Program a little for coursework or research</td>\n",
       "      <td>5/23/2017 12:54:44</td>\n",
       "      <td>North America</td>\n",
       "      <td>Undergraduate/college student</td>\n",
       "      <td>Mathematics</td>\n",
       "      <td>I absolutely need support to attend.</td>\n",
       "    </tr>\n",
       "    <tr>\n",
       "      <th>29</th>\n",
       "      <td>na</td>\n",
       "      <td>na</td>\n",
       "      <td>na</td>\n",
       "      <td>I have some experience with geospatial data</td>\n",
       "      <td>I commonly use a command line in my work</td>\n",
       "      <td>No</td>\n",
       "      <td>Yes</td>\n",
       "      <td>No</td>\n",
       "      <td>No</td>\n",
       "      <td>geo javascript</td>\n",
       "      <td>Release code for others to use</td>\n",
       "      <td>5/23/2017 13:12:15</td>\n",
       "      <td>North America</td>\n",
       "      <td>software developer</td>\n",
       "      <td>systems ecology</td>\n",
       "      <td>Financial support would help me, but I can pos...</td>\n",
       "    </tr>\n",
       "    <tr>\n",
       "      <th>31</th>\n",
       "      <td>I'm always working on projects related to thos...</td>\n",
       "      <td>No 'make-or-break' topics, but...agent-based, ...</td>\n",
       "      <td>I manage global datasets of geotagged photos a...</td>\n",
       "      <td>I have extensive experience with geospatial data</td>\n",
       "      <td>I commonly use a command line in my work</td>\n",
       "      <td>No</td>\n",
       "      <td>Yes</td>\n",
       "      <td>No</td>\n",
       "      <td>No</td>\n",
       "      <td>Approaches to measuring and mapping ecosystem ...</td>\n",
       "      <td>Program heavily for my own research</td>\n",
       "      <td>5/23/2017 15:49:18</td>\n",
       "      <td>North America</td>\n",
       "      <td>Research Staff</td>\n",
       "      <td>socio-ecological modeling</td>\n",
       "      <td>No support required.</td>\n",
       "    </tr>\n",
       "    <tr>\n",
       "      <th>32</th>\n",
       "      <td>na</td>\n",
       "      <td>Visualizing sets of geotagged photos.</td>\n",
       "      <td>na</td>\n",
       "      <td>None</td>\n",
       "      <td>I commonly use a command line in my work</td>\n",
       "      <td>No</td>\n",
       "      <td>Yes</td>\n",
       "      <td>No</td>\n",
       "      <td>Yes</td>\n",
       "      <td>na</td>\n",
       "      <td>Program heavily for my own research</td>\n",
       "      <td>5/23/2017 16:46:10</td>\n",
       "      <td>North America</td>\n",
       "      <td>Future Graduate student and currently in Industry</td>\n",
       "      <td>engineering</td>\n",
       "      <td>No support required.</td>\n",
       "    </tr>\n",
       "    <tr>\n",
       "      <th>43</th>\n",
       "      <td>na</td>\n",
       "      <td>I have been using GIS (ESRI) for many years an...</td>\n",
       "      <td>I have growth and yield forestry data for the ...</td>\n",
       "      <td>I have extensive experience with geospatial data</td>\n",
       "      <td>I commonly use a command line in my work</td>\n",
       "      <td>Yes</td>\n",
       "      <td>No</td>\n",
       "      <td>Yes</td>\n",
       "      <td>No</td>\n",
       "      <td>na</td>\n",
       "      <td>Program heavily for my own research</td>\n",
       "      <td>5/26/2017 11:07:15</td>\n",
       "      <td>North America</td>\n",
       "      <td>Data Scientist</td>\n",
       "      <td>Forestry</td>\n",
       "      <td>I absolutely need support to attend.</td>\n",
       "    </tr>\n",
       "    <tr>\n",
       "      <th>47</th>\n",
       "      <td>na</td>\n",
       "      <td>Processing large spatial datasets using cloud ...</td>\n",
       "      <td>In my day-job, I work regularly with OpenStree...</td>\n",
       "      <td>I have extensive experience with geospatial data</td>\n",
       "      <td>I commonly use a command line in my work</td>\n",
       "      <td>No</td>\n",
       "      <td>Yes</td>\n",
       "      <td>No</td>\n",
       "      <td>No</td>\n",
       "      <td>na</td>\n",
       "      <td>Program heavily for my own research</td>\n",
       "      <td>5/30/2017 9:50:19</td>\n",
       "      <td>North America</td>\n",
       "      <td>Industry</td>\n",
       "      <td>Spatial Data Processing (GIS Data Engineer)</td>\n",
       "      <td>No support required.</td>\n",
       "    </tr>\n",
       "    <tr>\n",
       "      <th>51</th>\n",
       "      <td>Not at this time.</td>\n",
       "      <td>I am mostly interested in learning more about ...</td>\n",
       "      <td>I don't have any specific datasets, but would ...</td>\n",
       "      <td>I have extensive experience with geospatial data</td>\n",
       "      <td>I commonly use a command line in my work</td>\n",
       "      <td>No</td>\n",
       "      <td>No</td>\n",
       "      <td>No</td>\n",
       "      <td>No</td>\n",
       "      <td>I am happy to share information about data res...</td>\n",
       "      <td>Program a little for coursework or research</td>\n",
       "      <td>5/31/2017 13:39:41</td>\n",
       "      <td>North America</td>\n",
       "      <td>UW Professional Staff</td>\n",
       "      <td>Data Management</td>\n",
       "      <td>No support required.</td>\n",
       "    </tr>\n",
       "    <tr>\n",
       "      <th>65</th>\n",
       "      <td>No</td>\n",
       "      <td>Batch convert raster data sets to cell arrays</td>\n",
       "      <td>PRISM monthly precipitaion normal raster data ...</td>\n",
       "      <td>I have extensive experience with geospatial data</td>\n",
       "      <td>I occasionally use a command line in my work</td>\n",
       "      <td>No</td>\n",
       "      <td>No</td>\n",
       "      <td>No</td>\n",
       "      <td>No</td>\n",
       "      <td>No</td>\n",
       "      <td>Program heavily for my own research</td>\n",
       "      <td>6/9/2017 17:27:27</td>\n",
       "      <td>North America</td>\n",
       "      <td>Government</td>\n",
       "      <td>earth surface processes</td>\n",
       "      <td>No support required.</td>\n",
       "    </tr>\n",
       "    <tr>\n",
       "      <th>66</th>\n",
       "      <td>Not necessarily; I'm helping lead the developm...</td>\n",
       "      <td>I spend a lot of time working on HPC systems a...</td>\n",
       "      <td>If there is interest, I can talk with colleagu...</td>\n",
       "      <td>I have extensive experience with geospatial data</td>\n",
       "      <td>I commonly use a command line in my work</td>\n",
       "      <td>No</td>\n",
       "      <td>Yes</td>\n",
       "      <td>No</td>\n",
       "      <td>No</td>\n",
       "      <td>Yes - I'm an ardent Pythonista, and I contribu...</td>\n",
       "      <td>Release code for others to use</td>\n",
       "      <td>6/10/2017 9:13:39</td>\n",
       "      <td>North America</td>\n",
       "      <td>Postdoc</td>\n",
       "      <td>atmosphere / climate</td>\n",
       "      <td>Financial support would help me, but I can pos...</td>\n",
       "    </tr>\n",
       "    <tr>\n",
       "      <th>67</th>\n",
       "      <td>Not at this time</td>\n",
       "      <td>Using geospatial data to optimize transportati...</td>\n",
       "      <td>Not at this time</td>\n",
       "      <td>I have some experience with geospatial data</td>\n",
       "      <td>I occasionally use a command line in my work</td>\n",
       "      <td>No</td>\n",
       "      <td>No</td>\n",
       "      <td>No</td>\n",
       "      <td>No</td>\n",
       "      <td>Not at this time</td>\n",
       "      <td>Program a little for coursework or research</td>\n",
       "      <td>6/10/2017 13:16:27</td>\n",
       "      <td>North America</td>\n",
       "      <td>Government</td>\n",
       "      <td>transportation economics</td>\n",
       "      <td>No support required.</td>\n",
       "    </tr>\n",
       "    <tr>\n",
       "      <th>68</th>\n",
       "      <td>na</td>\n",
       "      <td>na</td>\n",
       "      <td>na</td>\n",
       "      <td>I have some experience with geospatial data</td>\n",
       "      <td>I occasionally use a command line in my work</td>\n",
       "      <td>No</td>\n",
       "      <td>No</td>\n",
       "      <td>No</td>\n",
       "      <td>No</td>\n",
       "      <td>na</td>\n",
       "      <td>Program a little for coursework or research</td>\n",
       "      <td>6/10/2017 15:09:23</td>\n",
       "      <td>North America</td>\n",
       "      <td>Graduate/postgraduate student</td>\n",
       "      <td>mathematics</td>\n",
       "      <td>I absolutely need support to attend.</td>\n",
       "    </tr>\n",
       "    <tr>\n",
       "      <th>70</th>\n",
       "      <td>I can speak on Overview of National Action Pla...</td>\n",
       "      <td>Environmental modeling, climate change research</td>\n",
       "      <td>No.</td>\n",
       "      <td>I have some experience with geospatial data</td>\n",
       "      <td>None</td>\n",
       "      <td>No</td>\n",
       "      <td>No</td>\n",
       "      <td>No</td>\n",
       "      <td>No</td>\n",
       "      <td>institutional research capacities in differen...</td>\n",
       "      <td>Program a little for coursework or research</td>\n",
       "      <td>6/11/2017 22:22:32</td>\n",
       "      <td>Asia</td>\n",
       "      <td>Officer on Special Duty</td>\n",
       "      <td>Science Diplomacy, climate change</td>\n",
       "      <td>I absolutely need support to attend.</td>\n",
       "    </tr>\n",
       "  </tbody>\n",
       "</table>\n",
       "</div>"
      ],
      "text/plain": [
       "                                     specific_project  \\\n",
       "0                                                  No   \n",
       "5         Likely will in the fall, nothing right now.   \n",
       "9                                                  na   \n",
       "10                                                 na   \n",
       "13  https://www.kaggle.com/c/planet-understanding-...   \n",
       "14                                    None right now.   \n",
       "20                                                 na   \n",
       "23                                                 na   \n",
       "28                                                 na   \n",
       "29                                                 na   \n",
       "31  I'm always working on projects related to thos...   \n",
       "32                                                 na   \n",
       "43                                                 na   \n",
       "47                                                 na   \n",
       "51                                  Not at this time.   \n",
       "65                                                 No   \n",
       "66  Not necessarily; I'm helping lead the developm...   \n",
       "67                                   Not at this time   \n",
       "68                                                 na   \n",
       "70  I can speak on Overview of National Action Pla...   \n",
       "\n",
       "                                      specific_topics  \\\n",
       "0               What tools are out there for my data.   \n",
       "5   Machine Learning for Image/Grided Data Classif...   \n",
       "9                                                  na   \n",
       "10                                 New Python methods   \n",
       "13  Machine Learning applications for general infe...   \n",
       "14  Python for time-series analysis, Google Earth ...   \n",
       "20    How to derive insights from geospatial datasets   \n",
       "23                                                 na   \n",
       "28  I would like to learn more about coding and ge...   \n",
       "29                                                 na   \n",
       "31  No 'make-or-break' topics, but...agent-based, ...   \n",
       "32              Visualizing sets of geotagged photos.   \n",
       "43  I have been using GIS (ESRI) for many years an...   \n",
       "47  Processing large spatial datasets using cloud ...   \n",
       "51  I am mostly interested in learning more about ...   \n",
       "65      Batch convert raster data sets to cell arrays   \n",
       "66  I spend a lot of time working on HPC systems a...   \n",
       "67  Using geospatial data to optimize transportati...   \n",
       "68                                                 na   \n",
       "70    Environmental modeling, climate change research   \n",
       "\n",
       "                                    specific_datasets  \\\n",
       "0                                                  No   \n",
       "5                                   Not at the moment   \n",
       "9                                                  na   \n",
       "10                                                 na   \n",
       "13  https://www.kaggle.com/c/planet-understanding-...   \n",
       "14                                   Potentially yes.   \n",
       "20                                                 na   \n",
       "23                                                 na   \n",
       "28                                          I do not.   \n",
       "29                                                 na   \n",
       "31  I manage global datasets of geotagged photos a...   \n",
       "32                                                 na   \n",
       "43  I have growth and yield forestry data for the ...   \n",
       "47  In my day-job, I work regularly with OpenStree...   \n",
       "51  I don't have any specific datasets, but would ...   \n",
       "65  PRISM monthly precipitaion normal raster data ...   \n",
       "66  If there is interest, I can talk with colleagu...   \n",
       "67                                   Not at this time   \n",
       "68                                                 na   \n",
       "70                                                No.   \n",
       "\n",
       "                                      exp_geospatial  \\\n",
       "0   I have extensive experience with geospatial data   \n",
       "5   I have extensive experience with geospatial data   \n",
       "9                                               None   \n",
       "10  I have extensive experience with geospatial data   \n",
       "13       I have some experience with geospatial data   \n",
       "14       I have some experience with geospatial data   \n",
       "20       I have some experience with geospatial data   \n",
       "23                                              None   \n",
       "28                                              None   \n",
       "29       I have some experience with geospatial data   \n",
       "31  I have extensive experience with geospatial data   \n",
       "32                                              None   \n",
       "43  I have extensive experience with geospatial data   \n",
       "47  I have extensive experience with geospatial data   \n",
       "51  I have extensive experience with geospatial data   \n",
       "65  I have extensive experience with geospatial data   \n",
       "66  I have extensive experience with geospatial data   \n",
       "67       I have some experience with geospatial data   \n",
       "68       I have some experience with geospatial data   \n",
       "70       I have some experience with geospatial data   \n",
       "\n",
       "                                         exp_cmd apply_geohack apply_hack  \\\n",
       "0       I commonly use a command line in my work            No        Yes   \n",
       "5       I commonly use a command line in my work            No        Yes   \n",
       "9       I commonly use a command line in my work            No         No   \n",
       "10      I commonly use a command line in my work            No         No   \n",
       "13  I occasionally use a command line in my work            No        Yes   \n",
       "14  I occasionally use a command line in my work            No         No   \n",
       "20      I commonly use a command line in my work            No        Yes   \n",
       "23                                          None            No         No   \n",
       "28                                          None            No         No   \n",
       "29      I commonly use a command line in my work            No        Yes   \n",
       "31      I commonly use a command line in my work            No        Yes   \n",
       "32      I commonly use a command line in my work            No        Yes   \n",
       "43      I commonly use a command line in my work           Yes         No   \n",
       "47      I commonly use a command line in my work            No        Yes   \n",
       "51      I commonly use a command line in my work            No         No   \n",
       "65  I occasionally use a command line in my work            No         No   \n",
       "66      I commonly use a command line in my work            No        Yes   \n",
       "67  I occasionally use a command line in my work            No         No   \n",
       "68  I occasionally use a command line in my work            No         No   \n",
       "70                                          None            No         No   \n",
       "\n",
       "   gender_minor ethnic_minor  \\\n",
       "0            No          Yes   \n",
       "5            No           No   \n",
       "9            No           No   \n",
       "10           No           No   \n",
       "13           No           No   \n",
       "14          Yes          Yes   \n",
       "20           na           na   \n",
       "23           na           na   \n",
       "28           No          Yes   \n",
       "29           No           No   \n",
       "31           No           No   \n",
       "32           No          Yes   \n",
       "43          Yes           No   \n",
       "47           No           No   \n",
       "51           No           No   \n",
       "65           No           No   \n",
       "66           No           No   \n",
       "67           No           No   \n",
       "68           No           No   \n",
       "70           No           No   \n",
       "\n",
       "                                          teach_topic  \\\n",
       "0                                   Conda and Docker!   \n",
       "5                                                  No   \n",
       "9                                                  na   \n",
       "10                                                 na   \n",
       "13                                                 na   \n",
       "14  I have used R for my research. I could probabl...   \n",
       "20   Actionable Text Analytics from Customer Feedback   \n",
       "23                                                 na   \n",
       "28                                                 na   \n",
       "29                                     geo javascript   \n",
       "31  Approaches to measuring and mapping ecosystem ...   \n",
       "32                                                 na   \n",
       "43                                                 na   \n",
       "47                                                 na   \n",
       "51  I am happy to share information about data res...   \n",
       "65                                                 No   \n",
       "66  Yes - I'm an ardent Pythonista, and I contribu...   \n",
       "67                                   Not at this time   \n",
       "68                                                 na   \n",
       "70   institutional research capacities in differen...   \n",
       "\n",
       "                                       exp_prog           timestamp  \\\n",
       "0                Release code for others to use   5/11/2017 9:49:24   \n",
       "5   Program a little for coursework or research  5/15/2017 14:37:15   \n",
       "9           Program heavily for my own research  5/22/2017 10:09:44   \n",
       "10          Program heavily for my own research  5/22/2017 10:28:51   \n",
       "13  Program a little for coursework or research  5/22/2017 12:07:10   \n",
       "14          Program heavily for my own research  5/22/2017 12:22:30   \n",
       "20               Release code for others to use  5/22/2017 18:45:50   \n",
       "23  Program a little for coursework or research  5/22/2017 23:09:13   \n",
       "28  Program a little for coursework or research  5/23/2017 12:54:44   \n",
       "29               Release code for others to use  5/23/2017 13:12:15   \n",
       "31          Program heavily for my own research  5/23/2017 15:49:18   \n",
       "32          Program heavily for my own research  5/23/2017 16:46:10   \n",
       "43          Program heavily for my own research  5/26/2017 11:07:15   \n",
       "47          Program heavily for my own research   5/30/2017 9:50:19   \n",
       "51  Program a little for coursework or research  5/31/2017 13:39:41   \n",
       "65          Program heavily for my own research   6/9/2017 17:27:27   \n",
       "66               Release code for others to use   6/10/2017 9:13:39   \n",
       "67  Program a little for coursework or research  6/10/2017 13:16:27   \n",
       "68  Program a little for coursework or research  6/10/2017 15:09:23   \n",
       "70  Program a little for coursework or research  6/11/2017 22:22:32   \n",
       "\n",
       "         location                                           position  \\\n",
       "0   North America                                     Research Staff   \n",
       "5   North America                                     Research Staff   \n",
       "9   North America                      Graduate/postgraduate student   \n",
       "10  North America                                            Postdoc   \n",
       "13  North America                      Undergraduate/college student   \n",
       "14  North America                                   Teaching Faculty   \n",
       "20  North America                                           Industry   \n",
       "23  North America                      Undergraduate/college student   \n",
       "28  North America                      Undergraduate/college student   \n",
       "29  North America                                 software developer   \n",
       "31  North America                                     Research Staff   \n",
       "32  North America  Future Graduate student and currently in Industry   \n",
       "43  North America                                     Data Scientist   \n",
       "47  North America                                           Industry   \n",
       "51  North America                              UW Professional Staff   \n",
       "65  North America                                         Government   \n",
       "66  North America                                            Postdoc   \n",
       "67  North America                                         Government   \n",
       "68  North America                      Graduate/postgraduate student   \n",
       "70           Asia                           Officer on Special Duty    \n",
       "\n",
       "                                   science_work  \\\n",
       "0                                  oceanography   \n",
       "5                        Spatial Social Science   \n",
       "9                                    Seismology   \n",
       "10                      Glaciology (cryosphere)   \n",
       "13   Business applications for Machine Learning   \n",
       "14                              water resources   \n",
       "20                                 Data Science   \n",
       "23                                      Physics   \n",
       "28                                  Mathematics   \n",
       "29                              systems ecology   \n",
       "31                    socio-ecological modeling   \n",
       "32                                  engineering   \n",
       "43                                     Forestry   \n",
       "47  Spatial Data Processing (GIS Data Engineer)   \n",
       "51                              Data Management   \n",
       "65                      earth surface processes   \n",
       "66                         atmosphere / climate   \n",
       "67                     transportation economics   \n",
       "68                                  mathematics   \n",
       "70           Science Diplomacy, climate change    \n",
       "\n",
       "                                       need_financial  \n",
       "0                                No support required.  \n",
       "5                                No support required.  \n",
       "9                                No support required.  \n",
       "10                               No support required.  \n",
       "13  Financial support would help me, but I can pos...  \n",
       "14               I absolutely need support to attend.  \n",
       "20                               No support required.  \n",
       "23  Financial support would help me, but I can pos...  \n",
       "28               I absolutely need support to attend.  \n",
       "29  Financial support would help me, but I can pos...  \n",
       "31                               No support required.  \n",
       "32                               No support required.  \n",
       "43               I absolutely need support to attend.  \n",
       "47                               No support required.  \n",
       "51                               No support required.  \n",
       "65                               No support required.  \n",
       "66  Financial support would help me, but I can pos...  \n",
       "67                               No support required.  \n",
       "68               I absolutely need support to attend.  \n",
       "70               I absolutely need support to attend.  "
      ]
     },
     "execution_count": 38,
     "metadata": {},
     "output_type": "execute_result"
    }
   ],
   "source": [
    "df.loc[idx]"
   ]
  },
  {
   "cell_type": "code",
   "execution_count": null,
   "metadata": {
    "collapsed": true
   },
   "outputs": [],
   "source": []
  }
 ],
 "metadata": {
  "kernelspec": {
   "display_name": "Python 3",
   "language": "python",
   "name": "python3"
  },
  "language_info": {
   "codemirror_mode": {
    "name": "ipython",
    "version": 3
   },
   "file_extension": ".py",
   "mimetype": "text/x-python",
   "name": "python",
   "nbconvert_exporter": "python",
   "pygments_lexer": "ipython3",
   "version": "3.6.1"
  }
 },
 "nbformat": 4,
 "nbformat_minor": 2
}
